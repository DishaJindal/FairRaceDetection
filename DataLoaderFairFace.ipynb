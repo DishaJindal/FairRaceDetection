{
 "cells": [
  {
   "cell_type": "code",
   "execution_count": 0,
   "metadata": {
    "colab": {},
    "colab_type": "code",
    "collapsed": true,
    "deletable": true,
    "editable": true,
    "id": "8Gw0PzPo8j2B"
   },
   "outputs": [],
   "source": [
    "import pandas as pd\n",
    "import numpy as np\n",
    "import os\n",
    "\n",
    "from imageio import imread\n",
    "import matplotlib.pyplot as plt\n",
    "from matplotlib.patches import Rectangle\n",
    "%matplotlib inline\n",
    "from itertools import chain\n",
    "import torch\n",
    "import torchvision\n",
    "import itertools\n",
    "import logging\n",
    "import warnings\n",
    "warnings.filterwarnings('ignore')\n",
    "\n",
    "from torch.nn import Sigmoid\n",
    "from torch import Tensor, LongTensor\n",
    "from torch.autograd import Variable\n",
    "import torch.nn as nn\n",
    "import torch\n",
    "import torch.nn.functional as F\n",
    "import torchvision.transforms as transforms\n",
    "\n",
    "from PIL import Image\n",
    "\n",
    "logging.basicConfig(format='%(message)s',level = logging.INFO)"
   ]
  },
  {
   "cell_type": "code",
   "execution_count": 0,
   "metadata": {
    "colab": {},
    "colab_type": "code",
    "collapsed": true,
    "deletable": true,
    "editable": true,
    "id": "tF3VAmxXNyrz"
   },
   "outputs": [],
   "source": [
    "fileList = os.listdir(\"D:\\\\2\")"
   ]
  },
  {
   "cell_type": "code",
   "execution_count": 0,
   "metadata": {
    "colab": {},
    "colab_type": "code",
    "collapsed": true,
    "deletable": true,
    "editable": true,
    "id": "wHAf6GweNy1Q"
   },
   "outputs": [],
   "source": [
    "df['ind'] = df.filename.apply(lambda x : 1 if \"/2/\" in x else 0)"
   ]
  },
  {
   "cell_type": "code",
   "execution_count": 33,
   "metadata": {
    "colab": {
     "base_uri": "https://localhost:8080/",
     "height": 204
    },
    "colab_type": "code",
    "collapsed": false,
    "deletable": true,
    "editable": true,
    "id": "1X3BYZcvNy5p",
    "outputId": "7d7baec2-1658-4351-8242-94ae323db4da"
   },
   "outputs": [
    {
     "data": {
      "text/html": [
       "<div>\n",
       "<style scoped>\n",
       "    .dataframe tbody tr th:only-of-type {\n",
       "        vertical-align: middle;\n",
       "    }\n",
       "\n",
       "    .dataframe tbody tr th {\n",
       "        vertical-align: top;\n",
       "    }\n",
       "\n",
       "    .dataframe thead th {\n",
       "        text-align: right;\n",
       "    }\n",
       "</style>\n",
       "<table border=\"1\" class=\"dataframe\">\n",
       "  <thead>\n",
       "    <tr style=\"text-align: right;\">\n",
       "      <th></th>\n",
       "      <th>DummyID</th>\n",
       "      <th>filename</th>\n",
       "      <th>train</th>\n",
       "      <th>imageName</th>\n",
       "      <th>label</th>\n",
       "      <th>BMI</th>\n",
       "      <th>ind</th>\n",
       "    </tr>\n",
       "  </thead>\n",
       "  <tbody>\n",
       "    <tr>\n",
       "      <td>0</td>\n",
       "      <td>76093408</td>\n",
       "      <td>FullRes/2/76093408_L_CC_1.jpg</td>\n",
       "      <td>True</td>\n",
       "      <td>76093408_L_CC_1.jpg</td>\n",
       "      <td>1</td>\n",
       "      <td>31.8</td>\n",
       "      <td>1</td>\n",
       "    </tr>\n",
       "    <tr>\n",
       "      <td>1</td>\n",
       "      <td>76071433</td>\n",
       "      <td>FullRes/2/76071433_L_CC_1.jpg</td>\n",
       "      <td>False</td>\n",
       "      <td>76071433_L_CC_1.jpg</td>\n",
       "      <td>1</td>\n",
       "      <td>24.3</td>\n",
       "      <td>1</td>\n",
       "    </tr>\n",
       "    <tr>\n",
       "      <td>4</td>\n",
       "      <td>76863896</td>\n",
       "      <td>FullRes/2/76863896_R_CC_1.jpg</td>\n",
       "      <td>False</td>\n",
       "      <td>76863896_R_CC_1.jpg</td>\n",
       "      <td>0</td>\n",
       "      <td>23.4</td>\n",
       "      <td>1</td>\n",
       "    </tr>\n",
       "    <tr>\n",
       "      <td>5</td>\n",
       "      <td>76428052</td>\n",
       "      <td>FullRes/2/76428052_L_MLO_1.jpg</td>\n",
       "      <td>False</td>\n",
       "      <td>76428052_L_MLO_1.jpg</td>\n",
       "      <td>0</td>\n",
       "      <td>32.9</td>\n",
       "      <td>1</td>\n",
       "    </tr>\n",
       "    <tr>\n",
       "      <td>11</td>\n",
       "      <td>5170186</td>\n",
       "      <td>FullRes/2/5170186_R_MLO_1.jpg</td>\n",
       "      <td>False</td>\n",
       "      <td>5170186_R_MLO_1.jpg</td>\n",
       "      <td>1</td>\n",
       "      <td>27.2</td>\n",
       "      <td>1</td>\n",
       "    </tr>\n",
       "  </tbody>\n",
       "</table>\n",
       "</div>"
      ],
      "text/plain": [
       "     DummyID                        filename  train             imageName  \\\n",
       "0   76093408   FullRes/2/76093408_L_CC_1.jpg   True   76093408_L_CC_1.jpg   \n",
       "1   76071433   FullRes/2/76071433_L_CC_1.jpg  False   76071433_L_CC_1.jpg   \n",
       "4   76863896   FullRes/2/76863896_R_CC_1.jpg  False   76863896_R_CC_1.jpg   \n",
       "5   76428052  FullRes/2/76428052_L_MLO_1.jpg  False  76428052_L_MLO_1.jpg   \n",
       "11   5170186   FullRes/2/5170186_R_MLO_1.jpg  False   5170186_R_MLO_1.jpg   \n",
       "\n",
       "    label   BMI  ind  \n",
       "0       1  31.8    1  \n",
       "1       1  24.3    1  \n",
       "4       0  23.4    1  \n",
       "5       0  32.9    1  \n",
       "11      1  27.2    1  "
      ]
     },
     "execution_count": 33,
     "metadata": {
      "tags": []
     },
     "output_type": "execute_result"
    }
   ],
   "source": [
    "subDf = df[df.ind==1]\n",
    "subDf.head()\n"
   ]
  },
  {
   "cell_type": "code",
   "execution_count": 0,
   "metadata": {
    "colab": {},
    "colab_type": "code",
    "collapsed": true,
    "deletable": true,
    "editable": true,
    "id": "IhCixH4TOPCt"
   },
   "outputs": [],
   "source": [
    "dropList = []\n",
    "\n",
    "for i in range(len(subDf)):\n",
    "\n",
    "  filename= subDf.iloc[i].filename.split(\"/\")[-1]\n",
    "\n",
    "  if filename not in fileList:\n",
    "    dropList.append(i)\n",
    "    "
   ]
  },
  {
   "cell_type": "code",
   "execution_count": 35,
   "metadata": {
    "colab": {
     "base_uri": "https://localhost:8080/",
     "height": 204
    },
    "colab_type": "code",
    "collapsed": false,
    "deletable": true,
    "editable": true,
    "id": "-6M1bRkkPMaA",
    "outputId": "1b2a1df3-3357-4aa0-e49f-f313852c0477"
   },
   "outputs": [
    {
     "data": {
      "text/html": [
       "<div>\n",
       "<style scoped>\n",
       "    .dataframe tbody tr th:only-of-type {\n",
       "        vertical-align: middle;\n",
       "    }\n",
       "\n",
       "    .dataframe tbody tr th {\n",
       "        vertical-align: top;\n",
       "    }\n",
       "\n",
       "    .dataframe thead th {\n",
       "        text-align: right;\n",
       "    }\n",
       "</style>\n",
       "<table border=\"1\" class=\"dataframe\">\n",
       "  <thead>\n",
       "    <tr style=\"text-align: right;\">\n",
       "      <th></th>\n",
       "      <th>DummyID</th>\n",
       "      <th>filename</th>\n",
       "      <th>train</th>\n",
       "      <th>imageName</th>\n",
       "      <th>label</th>\n",
       "      <th>BMI</th>\n",
       "      <th>ind</th>\n",
       "    </tr>\n",
       "  </thead>\n",
       "  <tbody>\n",
       "    <tr>\n",
       "      <td>0</td>\n",
       "      <td>76093408</td>\n",
       "      <td>FullRes/2/76093408_L_CC_1.jpg</td>\n",
       "      <td>True</td>\n",
       "      <td>76093408_L_CC_1.jpg</td>\n",
       "      <td>1</td>\n",
       "      <td>31.8</td>\n",
       "      <td>1</td>\n",
       "    </tr>\n",
       "    <tr>\n",
       "      <td>1</td>\n",
       "      <td>76071433</td>\n",
       "      <td>FullRes/2/76071433_L_CC_1.jpg</td>\n",
       "      <td>False</td>\n",
       "      <td>76071433_L_CC_1.jpg</td>\n",
       "      <td>1</td>\n",
       "      <td>24.3</td>\n",
       "      <td>1</td>\n",
       "    </tr>\n",
       "    <tr>\n",
       "      <td>2</td>\n",
       "      <td>76863896</td>\n",
       "      <td>FullRes/2/76863896_R_CC_1.jpg</td>\n",
       "      <td>False</td>\n",
       "      <td>76863896_R_CC_1.jpg</td>\n",
       "      <td>0</td>\n",
       "      <td>23.4</td>\n",
       "      <td>1</td>\n",
       "    </tr>\n",
       "    <tr>\n",
       "      <td>3</td>\n",
       "      <td>76428052</td>\n",
       "      <td>FullRes/2/76428052_L_MLO_1.jpg</td>\n",
       "      <td>False</td>\n",
       "      <td>76428052_L_MLO_1.jpg</td>\n",
       "      <td>0</td>\n",
       "      <td>32.9</td>\n",
       "      <td>1</td>\n",
       "    </tr>\n",
       "    <tr>\n",
       "      <td>4</td>\n",
       "      <td>5170186</td>\n",
       "      <td>FullRes/2/5170186_R_MLO_1.jpg</td>\n",
       "      <td>False</td>\n",
       "      <td>5170186_R_MLO_1.jpg</td>\n",
       "      <td>1</td>\n",
       "      <td>27.2</td>\n",
       "      <td>1</td>\n",
       "    </tr>\n",
       "  </tbody>\n",
       "</table>\n",
       "</div>"
      ],
      "text/plain": [
       "    DummyID                        filename  train             imageName  \\\n",
       "0  76093408   FullRes/2/76093408_L_CC_1.jpg   True   76093408_L_CC_1.jpg   \n",
       "1  76071433   FullRes/2/76071433_L_CC_1.jpg  False   76071433_L_CC_1.jpg   \n",
       "2  76863896   FullRes/2/76863896_R_CC_1.jpg  False   76863896_R_CC_1.jpg   \n",
       "3  76428052  FullRes/2/76428052_L_MLO_1.jpg  False  76428052_L_MLO_1.jpg   \n",
       "4   5170186   FullRes/2/5170186_R_MLO_1.jpg  False   5170186_R_MLO_1.jpg   \n",
       "\n",
       "   label   BMI  ind  \n",
       "0      1  31.8    1  \n",
       "1      1  24.3    1  \n",
       "2      0  23.4    1  \n",
       "3      0  32.9    1  \n",
       "4      1  27.2    1  "
      ]
     },
     "execution_count": 35,
     "metadata": {
      "tags": []
     },
     "output_type": "execute_result"
    }
   ],
   "source": [
    "subDf = subDf.reset_index()\n",
    "subDf.drop('index',inplace =True, axis = 1)\n",
    "subDf.head()"
   ]
  },
  {
   "cell_type": "code",
   "execution_count": 0,
   "metadata": {
    "colab": {},
    "colab_type": "code",
    "collapsed": true,
    "deletable": true,
    "editable": true,
    "id": "fI31VCDONy8E"
   },
   "outputs": [],
   "source": [
    "subDf.drop(dropList,axis=0,inplace = True)"
   ]
  },
  {
   "cell_type": "code",
   "execution_count": 0,
   "metadata": {
    "colab": {},
    "colab_type": "code",
    "collapsed": true,
    "deletable": true,
    "editable": true,
    "id": "qNNYv7QsNzAI"
   },
   "outputs": [],
   "source": [
    "cleanDf = df[df.ind==0]\n",
    "\n",
    "\n",
    "finalDf = cleanDf.append(subDf)"
   ]
  },
  {
   "cell_type": "code",
   "execution_count": 40,
   "metadata": {
    "colab": {
     "base_uri": "https://localhost:8080/",
     "height": 34
    },
    "colab_type": "code",
    "collapsed": false,
    "deletable": true,
    "editable": true,
    "id": "gxLL53wAPrlc",
    "outputId": "99b2fcd4-6dae-4b87-934e-d88b795b6d2f"
   },
   "outputs": [
    {
     "data": {
      "text/plain": [
       "14720"
      ]
     },
     "execution_count": 40,
     "metadata": {
      "tags": []
     },
     "output_type": "execute_result"
    }
   ],
   "source": [
    "len(finalDf)"
   ]
  },
  {
   "cell_type": "code",
   "execution_count": 0,
   "metadata": {
    "colab": {},
    "colab_type": "code",
    "collapsed": true,
    "deletable": true,
    "editable": true,
    "id": "aLePpoAkPrsn"
   },
   "outputs": [],
   "source": [
    "finalDf.to_csv(\"D:\\\\LabelFile_2000_updated.csv\",index = False, index_label=False)"
   ]
  },
  {
   "cell_type": "code",
   "execution_count": 0,
   "metadata": {
    "colab": {},
    "colab_type": "code",
    "collapsed": true,
    "deletable": true,
    "editable": true,
    "id": "0AZzeDyv8j2G"
   },
   "outputs": [],
   "source": [
    "df = pd.read_csv('D:\\\\LabelFile_2000.txt')"
   ]
  },
  {
   "cell_type": "code",
   "execution_count": 8,
   "metadata": {
    "colab": {
     "base_uri": "https://localhost:8080/",
     "height": 204
    },
    "colab_type": "code",
    "collapsed": false,
    "deletable": true,
    "editable": true,
    "id": "s-jaChhj8j2J",
    "outputId": "26b7013a-f53c-4978-a857-91b446978052"
   },
   "outputs": [
    {
     "data": {
      "text/html": [
       "<div>\n",
       "<style scoped>\n",
       "    .dataframe tbody tr th:only-of-type {\n",
       "        vertical-align: middle;\n",
       "    }\n",
       "\n",
       "    .dataframe tbody tr th {\n",
       "        vertical-align: top;\n",
       "    }\n",
       "\n",
       "    .dataframe thead th {\n",
       "        text-align: right;\n",
       "    }\n",
       "</style>\n",
       "<table border=\"1\" class=\"dataframe\">\n",
       "  <thead>\n",
       "    <tr style=\"text-align: right;\">\n",
       "      <th></th>\n",
       "      <th>DummyID</th>\n",
       "      <th>filename</th>\n",
       "      <th>train</th>\n",
       "      <th>imageName</th>\n",
       "      <th>label</th>\n",
       "      <th>BMI</th>\n",
       "    </tr>\n",
       "  </thead>\n",
       "  <tbody>\n",
       "    <tr>\n",
       "      <td>0</td>\n",
       "      <td>76093408</td>\n",
       "      <td>FullRes/2/76093408_L_CC_1.jpg</td>\n",
       "      <td>True</td>\n",
       "      <td>76093408_L_CC_1.jpg</td>\n",
       "      <td>1</td>\n",
       "      <td>31.8</td>\n",
       "    </tr>\n",
       "    <tr>\n",
       "      <td>1</td>\n",
       "      <td>76071433</td>\n",
       "      <td>FullRes/2/76071433_L_CC_1.jpg</td>\n",
       "      <td>False</td>\n",
       "      <td>76071433_L_CC_1.jpg</td>\n",
       "      <td>1</td>\n",
       "      <td>24.3</td>\n",
       "    </tr>\n",
       "    <tr>\n",
       "      <td>2</td>\n",
       "      <td>75828260</td>\n",
       "      <td>PennExtra_3500/75828260_FOR-PROCESSING_L_MLO_1...</td>\n",
       "      <td>False</td>\n",
       "      <td>75828260_FOR-PROCESSING_L_MLO_1.jpg</td>\n",
       "      <td>1</td>\n",
       "      <td>25.7</td>\n",
       "    </tr>\n",
       "    <tr>\n",
       "      <td>3</td>\n",
       "      <td>76661032</td>\n",
       "      <td>FullRes/3/76661032_L_MLO_1.jpg</td>\n",
       "      <td>False</td>\n",
       "      <td>76661032_L_MLO_1.jpg</td>\n",
       "      <td>1</td>\n",
       "      <td>24.4</td>\n",
       "    </tr>\n",
       "    <tr>\n",
       "      <td>4</td>\n",
       "      <td>76863896</td>\n",
       "      <td>FullRes/2/76863896_R_CC_1.jpg</td>\n",
       "      <td>False</td>\n",
       "      <td>76863896_R_CC_1.jpg</td>\n",
       "      <td>0</td>\n",
       "      <td>23.4</td>\n",
       "    </tr>\n",
       "  </tbody>\n",
       "</table>\n",
       "</div>"
      ],
      "text/plain": [
       "    DummyID                                           filename  train  \\\n",
       "0  76093408                      FullRes/2/76093408_L_CC_1.jpg   True   \n",
       "1  76071433                      FullRes/2/76071433_L_CC_1.jpg  False   \n",
       "2  75828260  PennExtra_3500/75828260_FOR-PROCESSING_L_MLO_1...  False   \n",
       "3  76661032                     FullRes/3/76661032_L_MLO_1.jpg  False   \n",
       "4  76863896                      FullRes/2/76863896_R_CC_1.jpg  False   \n",
       "\n",
       "                             imageName  label   BMI  \n",
       "0                  76093408_L_CC_1.jpg      1  31.8  \n",
       "1                  76071433_L_CC_1.jpg      1  24.3  \n",
       "2  75828260_FOR-PROCESSING_L_MLO_1.jpg      1  25.7  \n",
       "3                 76661032_L_MLO_1.jpg      1  24.4  \n",
       "4                  76863896_R_CC_1.jpg      0  23.4  "
      ]
     },
     "execution_count": 8,
     "metadata": {
      "tags": []
     },
     "output_type": "execute_result"
    }
   ],
   "source": [
    "df.head()"
   ]
  },
  {
   "cell_type": "code",
   "execution_count": 0,
   "metadata": {
    "colab": {},
    "colab_type": "code",
    "collapsed": true,
    "deletable": true,
    "editable": true,
    "id": "Ytz7aip_8j2N"
   },
   "outputs": [],
   "source": [
    "trainData = df[df.train == False]\n",
    "validData = df[df.train == True]"
   ]
  },
  {
   "cell_type": "code",
   "execution_count": 0,
   "metadata": {
    "colab": {},
    "colab_type": "code",
    "collapsed": true,
    "deletable": true,
    "editable": true,
    "id": "9pM2R3Z98j2P"
   },
   "outputs": [],
   "source": [
    "dataFolder = \"D:\\\\\""
   ]
  },
  {
   "cell_type": "code",
   "execution_count": 0,
   "metadata": {
    "colab": {},
    "colab_type": "code",
    "collapsed": true,
    "deletable": true,
    "editable": true,
    "id": "LN_5nfzE8j2R"
   },
   "outputs": [],
   "source": [
    "class CancerDataset(torch.utils.data.Dataset):\n",
    "  def __init__(self, dataFolder, dataList):\n",
    "    self.data = dataList\n",
    "    \n",
    "  def __len__(self):\n",
    "    return len(self.data)\n",
    "    \n",
    "  def __getitem__(self, index):\n",
    "    filename = self.data.iloc[index].filename\n",
    "    if 'FullRes' in filename :\n",
    "        #Removes the starting \"FullRes\" from the filename\n",
    "        filename = filename[7:]\n",
    "    data = imread(os.path.join(dataFolder, filename))\n",
    "    data = Image.fromarray(data)\n",
    "    data = data.resize((512,512))\n",
    "    data = np.array(data)\n",
    "    data = data/256.0 \n",
    "    data = torchvision.transforms.ToTensor()(data)\n",
    "    data = data.float()\n",
    "    label = self.data.iloc[index].label\n",
    "    bmi = self.data.iloc[index].BMI\n",
    "    return data, np.array([label, bmi]).type(float)"
   ]
  },
  {
   "cell_type": "code",
   "execution_count": 0,
   "metadata": {
    "colab": {},
    "colab_type": "code",
    "collapsed": true,
    "deletable": true,
    "editable": true,
    "id": "lYqVeRzpDtZv"
   },
   "outputs": [],
   "source": [
    "trainDataset = Dataset(dataFolder, trainData) \n",
    "validDataset = Dataset(dataFolder, validData) "
   ]
  },
  {
   "cell_type": "code",
   "execution_count": 16,
   "metadata": {
    "colab": {
     "base_uri": "https://localhost:8080/",
     "height": 34
    },
    "colab_type": "code",
    "collapsed": false,
    "deletable": true,
    "editable": true,
    "id": "Agq3QBQID3ph",
    "outputId": "3151e731-f2f7-4b20-adda-455342e3634e"
   },
   "outputs": [
    {
     "data": {
      "text/plain": [
       "12984"
      ]
     },
     "execution_count": 16,
     "metadata": {
      "tags": []
     },
     "output_type": "execute_result"
    }
   ],
   "source": [
    "len(trainDataset)"
   ]
  },
  {
   "cell_type": "code",
   "execution_count": 0,
   "metadata": {
    "colab": {},
    "colab_type": "code",
    "collapsed": true,
    "deletable": true,
    "editable": true,
    "id": "UiISiEC7D5Th"
   },
   "outputs": [],
   "source": []
  }
 ],
 "metadata": {
  "accelerator": "GPU",
  "colab": {
   "name": "DataLoader.ipynb",
   "provenance": []
  },
  "kernelspec": {
   "display_name": "Python 2",
   "language": "python",
   "name": "python2"
  },
  "language_info": {
   "codemirror_mode": {
    "name": "ipython",
    "version": 2
   },
   "file_extension": ".py",
   "mimetype": "text/x-python",
   "name": "python",
   "nbconvert_exporter": "python",
   "pygments_lexer": "ipython2",
   "version": "2.7.13"
  }
 },
 "nbformat": 4,
 "nbformat_minor": 0
}
